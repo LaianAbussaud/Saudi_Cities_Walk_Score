{
 "cells": [
  {
   "cell_type": "markdown",
   "metadata": {},
   "source": [
    "# In this notebook I mapped the 3 chosen Saudi Cities\n",
    "## (Al Khobar, Riyadh, Jeddah)"
   ]
  },
  {
   "cell_type": "markdown",
   "metadata": {},
   "source": [
    "<img src=\"Images/sa_map.png\"\n",
    "style=\"width:500px;height:500px\"/>"
   ]
  },
  {
   "cell_type": "markdown",
   "metadata": {},
   "source": [
    "### Steps:\n",
    "1. Import libraries\n",
    "2. Add inputs\n",
    "3. Plot street network + add building footprints\n",
    "4. Add the 30 minutes walking radius isochrone"
   ]
  },
  {
   "cell_type": "markdown",
   "metadata": {},
   "source": [
    "### 1. Import libraries"
   ]
  },
  {
   "cell_type": "code",
   "execution_count": null,
   "metadata": {},
   "outputs": [],
   "source": [
    "%matplotlib inline\n",
    "import geopandas as gpd\n",
    "import pandas as pd\n",
    "import matplotlib.pyplot as plt\n",
    "import networkx as nx\n",
    "import osmnx as ox\n",
    "from shapely.geometry import Point, Polygon, LineString\n",
    "from descartes import PolygonPatch"
   ]
  },
  {
   "cell_type": "markdown",
   "metadata": {},
   "source": [
    "### 2. Add inputs"
   ]
  },
  {
   "cell_type": "code",
   "execution_count": null,
   "metadata": {},
   "outputs": [],
   "source": [
    "# cities 2.5km radius bounding box coordinates\n",
    "Khobar = [50.1829, 26.2774, 50.2312, 26.3213] # Al Khobar\n",
    "Riyadh = [46.6503, 24.6888, 46.6986, 24.7327] # Riyadh\n",
    "Jeddah = [39.1038, 21.5700, 39.1524, 21.6149] # Jeddah\n",
    "\n",
    "network_type = 'walk'\n",
    "trip_times = [5,10,15,25,30] # in minutes\n",
    "travel_speed = 4.5 # walking speed in km/hour\n",
    "tags = {\"building\": True}"
   ]
  },
  {
   "cell_type": "markdown",
   "metadata": {},
   "source": [
    "### 3. Plot street network + add building footprints"
   ]
  },
  {
   "cell_type": "code",
   "execution_count": null,
   "metadata": {},
   "outputs": [],
   "source": [
    "west, south, east, north = (39.1038, 21.5700, 39.1524, 21.6149)\n",
    "\n",
    "# get street network from the bounding box\n",
    "G = ox.graph_from_bbox(north, south, east, west, network_type=network_type)\n",
    "\n",
    "# get building footprints from the bounding box\n",
    "fp = ox.geometries_from_bbox(north, south, east, west, tags=tags)\n",
    "\n",
    "# plot street network\n",
    "fig, ax = ox.plot_graph(G, figsize=(12, 12), bgcolor='w', edge_color='k',\n",
    "                        node_size=0, edge_linewidth=0.3,\n",
    "                        show=False, close=False)\n",
    "\n",
    "# add building footprints\n",
    "fp.plot(ax=ax, color='gray', alpha=0.5)\n",
    "plt.show()"
   ]
  },
  {
   "cell_type": "markdown",
   "metadata": {},
   "source": [
    "### 4. Add the 30 minutes walking radius isochrone"
   ]
  },
  {
   "cell_type": "code",
   "execution_count": null,
   "metadata": {},
   "outputs": [],
   "source": [
    "# assign center point to analyze\n",
    "gdf_nodes = ox.graph_to_gdfs(G, edges=False)\n",
    "x, y = gdf_nodes['geometry'].unary_union.centroid.xy\n",
    "center_node = ox.get_nearest_node(G, (y[0], x[0]))\n",
    "G = ox.project_graph(G)\n",
    "\n",
    "# assign time attribute\n",
    "meters_per_minute = travel_speed * 1000 / 60 \n",
    "for u, v, k, data in G.edges(data=True, keys=True):\n",
    "    data['time'] = data['length'] / meters_per_minute\n",
    "\n",
    "# get one color for each isochrone\n",
    "iso_colors = ox.plot.get_colors(n=len(trip_times), cmap='Reds', start=0.3, return_hex=True)\n",
    "\n",
    "# make the isochrone polygons\n",
    "isochrone_polys = []\n",
    "for trip_time in sorted(trip_times, reverse=True):\n",
    "    subgraph = nx.ego_graph(G, center_node, radius=trip_time, distance='time')\n",
    "    node_points = [Point((data['x'], data['y'])) for node, data in subgraph.nodes(data=True)]\n",
    "    bounding_poly = gpd.GeoSeries(node_points).unary_union.convex_hull\n",
    "    isochrone_polys.append(bounding_poly)\n",
    "\n",
    "# plot the network then add isochrones as colored descartes polygon patches\n",
    "fig, ax = ox.plot_graph(G, figsize=(12, 12), bgcolor='w', edge_color='k', node_size=0, edge_linewidth=0.3, show=False, close=False)\n",
    "for polygon, fc in zip(isochrone_polys, iso_colors):\n",
    "    patch = PolygonPatch(polygon, fc=fc, ec='none', alpha=0.6, zorder=-1)\n",
    "    ax.add_patch(patch)\n",
    "plt.show()"
   ]
  }
 ],
 "metadata": {
  "interpreter": {
   "hash": "40625bb967105b4da0a68e0da490ad1688764836b8b76dd3444ed6c3fff2e83b"
  },
  "kernelspec": {
   "display_name": "Python 3.9.7 64-bit ('geo_env': conda)",
   "language": "python",
   "name": "python3"
  },
  "language_info": {
   "codemirror_mode": {
    "name": "ipython",
    "version": 3
   },
   "file_extension": ".py",
   "mimetype": "text/x-python",
   "name": "python",
   "nbconvert_exporter": "python",
   "pygments_lexer": "ipython3",
   "version": "3.9.7"
  },
  "orig_nbformat": 4
 },
 "nbformat": 4,
 "nbformat_minor": 2
}
